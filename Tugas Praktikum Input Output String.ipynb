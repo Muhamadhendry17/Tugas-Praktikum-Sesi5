{
 "cells": [
  {
   "cell_type": "markdown",
   "id": "c88853e8",
   "metadata": {},
   "source": [
    "<h2>Latihan<h2/>"
   ]
  },
  {
   "cell_type": "markdown",
   "id": "1f15b7b5",
   "metadata": {},
   "source": [
    "1. Buatlah variabel dengan nama hobi, yang digunakan untuk menampung input dari user dengan label \"Hobi kamu apa? : \" , kemudian Cetaklah dengan label **Hobi kamu : {hobi}**\n",
    "2. Buatlah variabel nama, yang digunakan untuk menampung input dari user dengan label \"Siapa nama kamu? : \" , misal user mengisikan nama \"Romi\" maka akan tampil output **Nama kamu berawalan huruf R**\n",
    "3. Buatlah program tebak hasil dari perkalian dari 2 angka dari 0 sampai 100, jika user menjawab benar maka tampil **Jawaban anda True** dan jika salah, maka akan tampil **Jawaban anda False**\n",
    "4. Carilah kode CLDR Names dan unicode dari emoji, dan cetaklah menggunakan fungsi print\n",
    "5. Jika terdapat sebuah string **Belajar Pemrograman Python** Maka tampilkan **output** berikut ini menggunakan fungsi **print**\n",
    "6. Buatlah program untuk mengecek bahwa sebuah email termasuk valid atau tidak. Valid diartikan **True** dan tidak valid diartikan **False**\n",
    "\n"
   ]
  },
  {
   "cell_type": "markdown",
   "id": "89ce4d50",
   "metadata": {},
   "source": [
    "<h4>Jawaban 1</h4>"
   ]
  },
  {
   "cell_type": "code",
   "execution_count": 1,
   "id": "252c0839",
   "metadata": {},
   "outputs": [
    {
     "name": "stdout",
     "output_type": "stream",
     "text": [
      "Hobi kamu apa? :Basketball, Workout \n",
      "Hobi kamu : Basketball, Workout \n"
     ]
    }
   ],
   "source": [
    "hobi = input('Hobi kamu apa? :')\n",
    "print(f\"Hobi kamu : {hobi}\")"
   ]
  },
  {
   "cell_type": "markdown",
   "id": "5c9c88cc",
   "metadata": {},
   "source": [
    "<h4>Jawaban 2<h/4>"
   ]
  },
  {
   "cell_type": "code",
   "execution_count": 1,
   "id": "73501a59",
   "metadata": {},
   "outputs": [
    {
     "name": "stdout",
     "output_type": "stream",
     "text": [
      "Siapa nama kamu? :Hendry\n",
      "Nama kamu berawalan dari huruf H\n"
     ]
    }
   ],
   "source": [
    "nama = input('Siapa nama kamu? :')\n",
    "print(f\"Nama kamu berawalan dari huruf {nama[0]}\")"
   ]
  },
  {
   "cell_type": "markdown",
   "id": "718f12c3",
   "metadata": {},
   "source": [
    "<h4>Jawaban 3<h4/>"
   ]
  },
  {
   "cell_type": "code",
   "execution_count": 3,
   "id": "b676c55a",
   "metadata": {},
   "outputs": [
    {
     "name": "stdout",
     "output_type": "stream",
     "text": [
      "Jawaban Tebak Perkalian 2 Angka\n",
      "Berapakah hasil perkalian 20 dan 23 : 460\n",
      "Jawaban anda True\n"
     ]
    }
   ],
   "source": [
    "print(\"Jawaban Tebak Perkalian 2 Angka\")\n",
    "\n",
    "from random import randint\n",
    "angka_1 = randint(0,100)\n",
    "angka_2 = randint(0,100)\n",
    "\n",
    "hasil = int(input(f\"Berapakah hasil perkalian {angka_1} dan {angka_2} : \"))\n",
    "print(f\"Jawaban anda {hasil==angka_1 * angka_2}\")"
   ]
  },
  {
   "cell_type": "markdown",
   "id": "8049ae68",
   "metadata": {},
   "source": [
    "\n",
    "<h4>Jawaban 4<h4/>"
   ]
  },
  {
   "cell_type": "code",
   "execution_count": 2,
   "id": "e33155d7",
   "metadata": {},
   "outputs": [
    {
     "name": "stdout",
     "output_type": "stream",
     "text": [
      "\n",
      "Names :face savoring food\n",
      "Unicode : U0001F60B\n",
      "Hasil : 😋\n"
     ]
    }
   ],
   "source": [
    "print(\"\\nNames :face savoring food\")\n",
    "print(\"Unicode : U0001F60B\")\n",
    "print(\"Hasil : \\U0001F60B\")"
   ]
  },
  {
   "cell_type": "markdown",
   "id": "14e7864f",
   "metadata": {},
   "source": [
    "<h4>Jawaban 5<h4/>"
   ]
  },
  {
   "cell_type": "code",
   "execution_count": 3,
   "id": "114b8354",
   "metadata": {},
   "outputs": [
    {
     "name": "stdout",
     "output_type": "stream",
     "text": [
      "Belajar\n",
      "ajar\n",
      "Pemrograman \n",
      "gram\n",
      "Py\n",
      "graman Python\n",
      "Pemrograman Python\n"
     ]
    }
   ],
   "source": [
    "kalimat = 'Belajar Pemrograman Python'\n",
    "print(kalimat[0:7]) #Belajar\n",
    "print(kalimat[3:7]) #ajar\n",
    "print(kalimat[8:20]) #Pemrograman\n",
    "print(kalimat[13:17]) #gram\n",
    "print(kalimat[20:22]) #Py\n",
    "print(kalimat[13:26]) #gram Python\n",
    "print(kalimat[8:26]) #Pemrograman Python"
   ]
  },
  {
   "cell_type": "markdown",
   "id": "c9e05196",
   "metadata": {},
   "source": [
    "\n",
    "\n",
    "Buatlah program untuk mengecek bahwa sebuah email termasuk valid atau tidak. Valid diartikan True dan tidak valid diartikan False Berikut contoh test case yang bisa di gunakan sebagai acuan \n",
    "\n",
    "  \n",
    "   * alunsujjada@gmailcom->False\n",
    "   * alunsujjada@gmail.com->True\n",
    "   * alun.sujjada@gmail.com->False\n",
    "   * alunsujjada.gmail.com->False\n",
    "   * alun.sujjada@gmail.com->False\n"
   ]
  },
  {
   "cell_type": "markdown",
   "id": "19346780",
   "metadata": {},
   "source": [
    "<h4>Jawaban 6<h4/>"
   ]
  },
  {
   "cell_type": "code",
   "execution_count": 6,
   "id": "51c534dd",
   "metadata": {},
   "outputs": [
    {
     "name": "stdout",
     "output_type": "stream",
     "text": [
      "alunsujjada@gmailcom => False\n",
      "alunsujjada@gmail.com => True\n",
      "alun.sujjada@gmail.com => False\n",
      "alunsujjada.gmail.com => False\n",
      "alun.sujjada@gmailcom => False\n"
     ]
    }
   ],
   "source": [
    "def isEmailValid(email):\n",
    "    content = email.split(\"@\")\n",
    "    haveNoSpace = email.find(\" \") == -1\n",
    "    isContent = len(content) == 2\n",
    "    isIdentifier = content[0].isidentifier()\n",
    "    isDomain = len(content) == 2 and content [1].find(\".\") != -1 and (not content[1].startswith(\".\")) and (not content[1].endswith(\".\"))\n",
    "    return haveNoSpace and isContent and isIdentifier and isDomain\n",
    "\n",
    "emails = [\"alunsujjada@gmailcom\", \"alunsujjada@gmail.com\", \"alun.sujjada@gmail.com\", \"alunsujjada.gmail.com\", \"alun.sujjada@gmailcom\"]\n",
    "\n",
    "for email in emails:\n",
    "    isValid = isEmailValid(email)\n",
    "    print(f\"{email} => {isValid}\")"
   ]
  }
 ],
 "metadata": {
  "kernelspec": {
   "display_name": "Python 3 (ipykernel)",
   "language": "python",
   "name": "python3"
  },
  "language_info": {
   "codemirror_mode": {
    "name": "ipython",
    "version": 3
   },
   "file_extension": ".py",
   "mimetype": "text/x-python",
   "name": "python",
   "nbconvert_exporter": "python",
   "pygments_lexer": "ipython3",
   "version": "3.9.12"
  }
 },
 "nbformat": 4,
 "nbformat_minor": 5
}
